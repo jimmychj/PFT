{
 "cells": [
  {
   "cell_type": "code",
   "id": "initial_id",
   "metadata": {
    "collapsed": true,
    "ExecuteTime": {
     "end_time": "2024-10-21T18:09:12.391052Z",
     "start_time": "2024-10-21T18:09:10.644624Z"
    }
   },
   "source": [
    "import numpy as np\n",
    "import pandas as pd\n",
    "from sklearn.model_selection import train_test_split, GridSearchCV, cross_val_score\n",
    "from sklearn.ensemble import RandomForestClassifier\n",
    "from sklearn.metrics import accuracy_score, confusion_matrix, classification_report\n",
    "from sklearn.model_selection import StratifiedKFold\n",
    "\n",
    "df = pd.read_csv('Path_CT.csv').astype(bool)"
   ],
   "outputs": [],
   "execution_count": 1
  },
  {
   "metadata": {
    "ExecuteTime": {
     "end_time": "2024-10-21T18:21:35.960560Z",
     "start_time": "2024-10-21T18:21:35.949500Z"
    }
   },
   "cell_type": "code",
   "source": [
    "X = []\n",
    "y = []\n",
    "for i in range(len(df['fibrosis'])):\n",
    "    x_i=[\n",
    "        df['Hypersensitivity pneumonitis'][i], \n",
    "        df['GGO (ground glass opacity)'][i],\n",
    "        df['Mosaic or geographic or air trapping or small airway disease'][i], \n",
    "        df['bronchiectasis_CT'][i], \n",
    "        df['fibrosis/reticular'][i], df['honeycombing'][i],\n",
    "        df['Emphysema'][i], df['Air bronchogram/consolidation'][i],\n",
    "        df['Nodules'][i], df['Interstitial pneumonitis'][i]\n",
    "        ]\n",
    "    # x = df['bronchiectasis_p'][i]\n",
    "    X.append(x_i)\n",
    "    y_i =[\n",
    "          # df['granuloma'][i], \n",
    "          # df['hypersensitivity pneumonitis'][i],\n",
    "          # df['fibrosis'][i], \n",
    "          # df['organizing pneumonia'][i], \n",
    "          # df['Airway centered/bronchiolitis/small airway disease'][i], \n",
    "          # df['Nodules'][i], \n",
    "          # df['Honeycomb'][i], \n",
    "          # df['bronchiectasis_p'][i], \n",
    "          df['Interstitial pneumonia/pneumonitis'][i]\n",
    "          ]\n",
    "    y.append(y_i)\n",
    "X = np.array(X)\n",
    "y = np.array(y).ravel()\n",
    "print(X.shape)\n",
    "print(y.shape)"
   ],
   "id": "887e1e921b4945a7",
   "outputs": [
    {
     "name": "stdout",
     "output_type": "stream",
     "text": [
      "(120, 10)\n",
      "(120,)\n"
     ]
    }
   ],
   "execution_count": 40
  },
  {
   "metadata": {
    "ExecuteTime": {
     "end_time": "2024-10-21T18:22:32.118560Z",
     "start_time": "2024-10-21T18:22:16.261072Z"
    }
   },
   "cell_type": "code",
   "source": [
    "X_train, X_test, y_train, y_test = train_test_split(X, y, test_size=0.2, stratify=y)\n",
    "# Best Hyperparameters_fibrosis: {'max_depth': 2, 'max_features': 'log2', 'min_samples_leaf': 10, 'min_samples_split': 20, 'n_estimators': 200}\n",
    "# Best Hyperparameters_granuloma: {'max_depth': 2, 'max_features': 'sqrt', 'min_samples_leaf': 5, 'min_samples_split': 5, 'n_estimators': 50}\n",
    "\n",
    "# best_rf_classifier = RandomForestClassifier(\n",
    "#     n_estimators=200,              # Number of trees\n",
    "#     max_depth=2,                   # Maximum depth of each tree\n",
    "#     max_features='log2',           # Number of features considered for each split\n",
    "#     min_samples_leaf=10,           # Minimum samples in each leaf node\n",
    "#     min_samples_split=20,          # Minimum samples required to split an internal node               # Ensuring reproducibility\n",
    "# )\n",
    "# skf = StratifiedKFold(n_splits=10)\n",
    "# cv_scores = cross_val_score(best_rf_classifier, X, y, cv=skf)\n",
    "# best_rf_classifier.fit(X_train, y_train)\n",
    "rf_classifier = RandomForestClassifier()\n",
    "param_grid = {\n",
    "    'n_estimators': [50, 100, 200, 300],            # Number of trees in the forest\n",
    "    'max_depth': [2, 3, 4],                   # Max depth of each tree\n",
    "    'max_features': ['sqrt', 'log2'],          # Number of features to consider at each split\n",
    "    'min_samples_split': [2, 5, 10, 20],               # Minimum number of samples required to split a node\n",
    "    'min_samples_leaf': [2, 5, 10, 20]              # Minimum number of samples at each leaf node\n",
    "}\n",
    "\n",
    "grid_search = GridSearchCV(estimator=rf_classifier, param_grid=param_grid, \n",
    "                           cv=5, n_jobs=-1, verbose=0)\n",
    "# Fit the grid search to the data\n",
    "grid_search.fit(X_train, y_train)\n",
    "\n",
    "# Get the best model\n",
    "best_rf_classifier = grid_search.best_estimator_\n",
    "\n",
    "# Print the best hyperparameters found\n",
    "print(\"Best Hyperparameters:\", grid_search.best_params_)\n",
    "\n",
    "# Predict on the test set\n",
    "y_pred = best_rf_classifier.predict(X_test)\n",
    "\n",
    "# Evaluate the classifier performance\n",
    "accuracy = accuracy_score(y_test, y_pred)\n",
    "conf_matrix = confusion_matrix(y_test, y_pred)\n",
    "class_report = classification_report(y_test, y_pred, zero_division=0)\n",
    "\n",
    "# Output results\n",
    "print(f\"Accuracy: {accuracy * 100:.2f}%\")\n",
    "print(\"Confusion Matrix:\")\n",
    "print(conf_matrix)\n",
    "print(\"Classification Report:\")\n",
    "print(class_report)"
   ],
   "id": "6fcdc89d49dd1942",
   "outputs": [
    {
     "name": "stdout",
     "output_type": "stream",
     "text": [
      "Best Hyperparameters: {'max_depth': 4, 'max_features': 'sqrt', 'min_samples_leaf': 2, 'min_samples_split': 2, 'n_estimators': 50}\n",
      "Accuracy: 75.00%\n",
      "Confusion Matrix:\n",
      "[[ 5  4]\n",
      " [ 2 13]]\n",
      "Classification Report:\n",
      "              precision    recall  f1-score   support\n",
      "\n",
      "       False       0.71      0.56      0.62         9\n",
      "        True       0.76      0.87      0.81        15\n",
      "\n",
      "    accuracy                           0.75        24\n",
      "   macro avg       0.74      0.71      0.72        24\n",
      "weighted avg       0.75      0.75      0.74        24\n",
      "\n"
     ]
    },
    {
     "name": "stderr",
     "output_type": "stream",
     "text": [
      "/Users/jimmychen/Library/CloudStorage/OneDrive-Personal/Documents/Research/FVL/fvlnrn/lib/python3.10/site-packages/numpy/ma/core.py:2846: RuntimeWarning: invalid value encountered in cast\n",
      "  _data = np.array(data, dtype=dtype, copy=copy,\n"
     ]
    }
   ],
   "execution_count": 42
  },
  {
   "metadata": {
    "ExecuteTime": {
     "end_time": "2024-10-21T18:22:39.840581Z",
     "start_time": "2024-10-21T18:22:39.835665Z"
    }
   },
   "cell_type": "code",
   "source": [
    "import pickle\n",
    "with open('RF_classifiers/IP_pneumonitis_rf_classifier.pickle', 'wb') as f:\n",
    "    pickle.dump(best_rf_classifier, f)"
   ],
   "id": "157f81ad96158e87",
   "outputs": [],
   "execution_count": 43
  },
  {
   "metadata": {
    "ExecuteTime": {
     "end_time": "2024-10-21T18:22:42.472373Z",
     "start_time": "2024-10-21T18:22:42.462636Z"
    }
   },
   "cell_type": "code",
   "source": [
    "y_pred_all = best_rf_classifier.predict(X)\n",
    "class_report = classification_report(y, y_pred_all)\n",
    "# Evaluate the classifier performance\n",
    "accuracy = accuracy_score(y, y_pred_all)\n",
    "print(f\"Accuracy: {accuracy * 100:.2f}%\")\n",
    "print(\"Classification Report:\")\n",
    "print(class_report)"
   ],
   "id": "fb3bebd0f65f369e",
   "outputs": [
    {
     "name": "stdout",
     "output_type": "stream",
     "text": [
      "Accuracy: 79.17%\n",
      "Classification Report:\n",
      "              precision    recall  f1-score   support\n",
      "\n",
      "       False       0.73      0.68      0.71        44\n",
      "        True       0.82      0.86      0.84        76\n",
      "\n",
      "    accuracy                           0.79       120\n",
      "   macro avg       0.78      0.77      0.77       120\n",
      "weighted avg       0.79      0.79      0.79       120\n",
      "\n"
     ]
    }
   ],
   "execution_count": 44
  },
  {
   "metadata": {},
   "cell_type": "code",
   "outputs": [],
   "execution_count": null,
   "source": "",
   "id": "1fdbd4aa8e0ab0f8"
  }
 ],
 "metadata": {
  "kernelspec": {
   "display_name": "Python 3",
   "language": "python",
   "name": "python3"
  },
  "language_info": {
   "codemirror_mode": {
    "name": "ipython",
    "version": 2
   },
   "file_extension": ".py",
   "mimetype": "text/x-python",
   "name": "python",
   "nbconvert_exporter": "python",
   "pygments_lexer": "ipython2",
   "version": "2.7.6"
  }
 },
 "nbformat": 4,
 "nbformat_minor": 5
}
